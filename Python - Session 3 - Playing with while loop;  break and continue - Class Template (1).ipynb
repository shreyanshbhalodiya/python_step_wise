{
 "cells": [
  {
   "cell_type": "markdown",
   "metadata": {},
   "source": [
    "### A. While Loop"
   ]
  },
  {
   "cell_type": "markdown",
   "metadata": {},
   "source": [
    "How will you make a computer do a certain task until a condition is satisfied? For example, keep prompting an user for the password unless it matches."
   ]
  },
  {
   "cell_type": "code",
   "execution_count": null,
   "metadata": {
    "scrolled": true
   },
   "outputs": [
    {
     "name": "stdout",
     "output_type": "stream",
     "text": [
      "enter here 1234\n",
      "1234\n",
      "enter here 2335\n",
      "2335\n",
      "enter here 252\\\n",
      "252\\\n"
     ]
    }
   ],
   "source": [
    "password = ''\n",
    "while password != 1234:                   ## infinite loop\n",
    "    password = input(\"enter here \")\n",
    "    print(password)"
   ]
  },
  {
   "cell_type": "code",
   "execution_count": null,
   "metadata": {
    "scrolled": true
   },
   "outputs": [],
   "source": [
    "for i in range(1,10):\n",
    "    pwd = \"secret\"\n",
    "    a = input(\"enter your password \")\n",
    "    if a == pwd:\n",
    "        print(\"correct password \") \n",
    "        break\n",
    "    else:\n",
    "        print(\"incorrect password enter again your have total 10 chances\")"
   ]
  },
  {
   "cell_type": "code",
   "execution_count": null,
   "metadata": {},
   "outputs": [],
   "source": [
    "try:\n",
    "    hours = int(input(\"enter the number of hours \"))\n",
    "    if hours>100 or hours<0:\n",
    "        print(\"invalid hours enter start again \")\n",
    "    else:\n",
    "        pay = hours*12\n",
    "        print(pay)\n",
    "except:\n",
    "    print(\"invalid entry\")\n",
    "    \n",
    "    "
   ]
  },
  {
   "cell_type": "code",
   "execution_count": null,
   "metadata": {},
   "outputs": [],
   "source": [
    "try:\n",
    "    hours = int(input(\"enter the number of hours \"))\n",
    "    \n",
    "    while hours>100 or hours<0:\n",
    "        hours = int(input(\"enter the correct number of hours again: \"))\n",
    "        \n",
    "    pay = hours*12\n",
    "    print(pay)\n",
    "\n",
    "except:\n",
    "    print(\"enter correct entry (invalid entry)\")\n",
    "        \n",
    "        \n",
    "    "
   ]
  },
  {
   "cell_type": "code",
   "execution_count": null,
   "metadata": {},
   "outputs": [],
   "source": []
  },
  {
   "cell_type": "markdown",
   "metadata": {},
   "source": [
    "**A Problem**"
   ]
  },
  {
   "cell_type": "markdown",
   "metadata": {},
   "source": [
    "Suppose that a player wants to play a game which requires him Rs. 1,000 to start. If the current balance in his account is less than Rs. 1,000 he needs to withdraw the extra money from his e-wallet.\n",
    "\n",
    "Note that if the sum of money in his courrent account and the amount withdrawn is greater than or equal to Rs. 1,000 then he can start playing the game. However if the sum is less than Rs. 1,000 then the program should keep displaying the user the message “You still do not have enough money to start playing.” and keep prompting the user to withdraw money unless it crosses Rs. 1,000. Once ready, i.e. if his current account balance crosses Rs. 1,000, it will display a message “Now, you are ready to play the game.” Your program should also display the account balance and the current amount in the e-wallet.\n",
    "\n",
    "(consider: initial account balance is Rs. 200 and money in the e-wallet is Rs. 5,000)\n",
    "\n",
    "(Do further improvement by checking if the e-wallet balance becomes NIL, etc.)"
   ]
  },
  {
   "cell_type": "code",
   "execution_count": null,
   "metadata": {},
   "outputs": [],
   "source": []
  },
  {
   "cell_type": "markdown",
   "metadata": {},
   "source": [
    "**Take a break**"
   ]
  },
  {
   "cell_type": "code",
   "execution_count": null,
   "metadata": {},
   "outputs": [],
   "source": [
    "import webbrowser\n",
    "webbrowser.open('https://www.youtube.com/watch?v=HXV3zeQKqGY&t=1s')"
   ]
  },
  {
   "cell_type": "code",
   "execution_count": null,
   "metadata": {},
   "outputs": [],
   "source": [
    "import time\n",
    "time.sleep(6)"
   ]
  },
  {
   "cell_type": "code",
   "execution_count": null,
   "metadata": {},
   "outputs": [],
   "source": [
    "time.sleep(5)\n",
    "print(\"nice one learned \")"
   ]
  },
  {
   "cell_type": "code",
   "execution_count": null,
   "metadata": {},
   "outputs": [],
   "source": [
    "time.sleep(5)\n",
    "webbrowser.open('https://www.youtube.com/watch?v=HXV3zeQKqGY&t=1s')"
   ]
  },
  {
   "cell_type": "code",
   "execution_count": null,
   "metadata": {},
   "outputs": [],
   "source": [
    "for i in range(0,3):\n",
    "    time.sleep(5)\n",
    "    print(\"nice one learned \")"
   ]
  },
  {
   "cell_type": "code",
   "execution_count": null,
   "metadata": {
    "scrolled": false
   },
   "outputs": [],
   "source": [
    "while True:\n",
    "    time.sleep(5)\n",
    "    print(\"nice one learned \")"
   ]
  },
  {
   "cell_type": "code",
   "execution_count": null,
   "metadata": {
    "scrolled": true
   },
   "outputs": [],
   "source": [
    "i = 0\n",
    "while i<3:\n",
    "    time.sleep(3)\n",
    "    print(\"nice one learned \")\n",
    "    "
   ]
  },
  {
   "cell_type": "code",
   "execution_count": null,
   "metadata": {},
   "outputs": [],
   "source": [
    "for i in range(0,6):\n",
    "    time.sleep(1)\n",
    "    if i == 3:\n",
    "        continue\n",
    "    print(i)\n",
    "    "
   ]
  },
  {
   "cell_type": "code",
   "execution_count": null,
   "metadata": {},
   "outputs": [],
   "source": [
    "for i in range(0,6):\n",
    "    time.sleep(1)\n",
    "    print(i)\n",
    "    "
   ]
  },
  {
   "cell_type": "markdown",
   "metadata": {},
   "source": [
    "## see difference if you dont give i = i + 1 it will run for infinite times"
   ]
  },
  {
   "cell_type": "code",
   "execution_count": null,
   "metadata": {},
   "outputs": [],
   "source": [
    "i = 0\n",
    "while i<3:\n",
    "    time.sleep(3)\n",
    "    print(\"nice one learned \")\n",
    "    i = i + 1"
   ]
  },
  {
   "cell_type": "markdown",
   "metadata": {},
   "source": [
    "### B. Break and Continue"
   ]
  },
  {
   "cell_type": "markdown",
   "metadata": {},
   "source": [
    "**Recall the password problem**"
   ]
  },
  {
   "cell_type": "markdown",
   "metadata": {},
   "source": [
    "**Make an improvement**\n",
    "\n",
    "If the user fails to enter the password in 5 chances display a message “You have lost your 5 chances” and stop the program."
   ]
  },
  {
   "cell_type": "code",
   "execution_count": 2,
   "metadata": {
    "scrolled": true
   },
   "outputs": [
    {
     "name": "stdout",
     "output_type": "stream",
     "text": [
      "enter pwd here 12354\n",
      "enter pwd here 5688\n",
      "enter pwd here 6664\n",
      "enter pwd here 668\n",
      "enter pwd here 5185\n",
      "enter pwd here 123\n",
      "enter pwd here 1234\n"
     ]
    }
   ],
   "source": [
    "pwd = \" \"\n",
    "while pwd != 1234:\n",
    "    pwd = int(input(\"enter pwd here \"))"
   ]
  },
  {
   "cell_type": "code",
   "execution_count": null,
   "metadata": {},
   "outputs": [],
   "source": [
    "pwd = ' '\n",
    "counter = 0\n",
    "\n",
    "while pwd != 'secret':\n",
    "    pwd = input(\"enter here 5 chances only \")\n",
    "    counter += 1\n",
    "    if counter == 5:\n",
    "        print(\" you lost  all  5 chances \")\n",
    "        break\n",
    "    \n",
    "    \n"
   ]
  },
  {
   "cell_type": "code",
   "execution_count": 6,
   "metadata": {},
   "outputs": [],
   "source": [
    "def time():\n",
    "    \n",
    "    import sys\n",
    "    import time\n",
    "    for remaining in range(30, 0, -1):\n",
    "        sys.stdout.write(\"\\r%d seconds remaining.\" %remaining)\n",
    "        time.sleep(1)"
   ]
  },
  {
   "cell_type": "code",
   "execution_count": 7,
   "metadata": {},
   "outputs": [
    {
     "name": "stdout",
     "output_type": "stream",
     "text": [
      "enter here 5 chances only grgfd\n",
      "you only have  4  chances left\n",
      "enter here 5 chances only gts\n",
      "you only have  3  chances left\n",
      "enter here 5 chances only tgh\n",
      "you only have  2  chances left\n",
      "enter here 5 chances only 25\n",
      "you only have  1  chances left\n",
      "enter here 5 chances only 555\n",
      "you only have  0  chances left\n",
      " you lost  all  5 chances \n",
      "1 seconds remaining..None\n",
      "enter here 5 chances only secret\n",
      "logged in \n"
     ]
    }
   ],
   "source": [
    "pwd = ' '\n",
    "counter = 0\n",
    "\n",
    "while pwd != 'secret':\n",
    "    pwd = input(\"enter here 5 chances only \")\n",
    "    counter += 1\n",
    "    if pwd == 'secret':\n",
    "        print(\"logged in \")\n",
    "        break\n",
    "    else:   \n",
    "        print(\"you only have \", 5-counter,\" chances left\")\n",
    "    \n",
    "    \n",
    "    \n",
    "    if counter == 5:\n",
    "        print(\" you lost  all  5 chances \")\n",
    "        print(time())\n",
    "    \n",
    "    \n"
   ]
  },
  {
   "cell_type": "code",
   "execution_count": null,
   "metadata": {},
   "outputs": [],
   "source": [
    "for i in range(1,6):\n",
    "    pwd = input(\"enter password here \")\n",
    "    if pwd == 'secret':\n",
    "        print('logged in ')\n",
    "        break\n",
    "    \n",
    "    "
   ]
  },
  {
   "cell_type": "code",
   "execution_count": null,
   "metadata": {
    "scrolled": true
   },
   "outputs": [],
   "source": [
    "while 1:\n",
    "    pwd = input(\"enter password \")\n",
    "    if pwd == 'secret':\n",
    "        print(\"logged in\")\n",
    "        break"
   ]
  },
  {
   "cell_type": "code",
   "execution_count": null,
   "metadata": {},
   "outputs": [],
   "source": []
  },
  {
   "cell_type": "markdown",
   "metadata": {},
   "source": [
    "**Make another additional improvement**"
   ]
  },
  {
   "cell_type": "markdown",
   "metadata": {},
   "source": [
    "If the user enters “forgot password”, display a hint and again prompt for password. (But the user will get only 5 chances to enter the password)"
   ]
  },
  {
   "cell_type": "code",
   "execution_count": null,
   "metadata": {},
   "outputs": [],
   "source": [
    "pwd = ' '\n",
    "counter = 0\n",
    "\n",
    "while pwd != 'secret':\n",
    "    pwd = input(\"enter here 5 chances only \")\n",
    "    counter += 1\n",
    "    \n",
    "    if  pwd == 'forgot':\n",
    "        print(\"hint , password is secret we can't tell you sorry \")\n",
    "        continue\n",
    "        \n",
    "    if  pwd == 'secret':\n",
    "        print(\"logged in \")\n",
    "        break\n",
    "    else:   \n",
    "        print(\"you only have \", 5-counter,\" chances left\")\n",
    "    \n",
    "    \n",
    "    \n",
    "    if counter == 5:\n",
    "        print(\" you lost  all  5 chances \")\n",
    "        break\n",
    "    "
   ]
  },
  {
   "cell_type": "code",
   "execution_count": null,
   "metadata": {},
   "outputs": [],
   "source": [
    "\n",
    "while pwd != 'secret':\n",
    "    pwd = input(\"enter here  \")\n",
    "    counter += 1\n",
    "    \n",
    "    if  pwd == 'forgot':\n",
    "        print(\"hint , password is secret we can't tell you sorry \")\n",
    "        continue\n",
    "    \n",
    "    if counter == 5:\n",
    "        print(\" you lost  all  5 chances \")\n",
    "        break\n",
    "    "
   ]
  },
  {
   "cell_type": "markdown",
   "metadata": {},
   "source": [
    "#### Make further improvement"
   ]
  },
  {
   "cell_type": "code",
   "execution_count": null,
   "metadata": {},
   "outputs": [],
   "source": [
    "#Codes taken from stack overflow.\n",
    "\n",
    "import sys\n",
    "import time\n",
    "for remaining in range(30, 0, -1):\n",
    "    sys.stdout.write(\"\\r%d seconds remaining.\" %remaining)\n",
    "    time.sleep(1)"
   ]
  },
  {
   "cell_type": "code",
   "execution_count": null,
   "metadata": {},
   "outputs": [],
   "source": []
  },
  {
   "cell_type": "code",
   "execution_count": null,
   "metadata": {
    "scrolled": true
   },
   "outputs": [],
   "source": [
    "while True:\n",
    "    pwd = ' '\n",
    "    for i in range(5):\n",
    "        c = 4\n",
    "        pwd == input(\"enter your password \")\n",
    "        if pwd == 'secret':\n",
    "            print(\"correct password you are ready to login \")\n",
    "        elif pwd != 'secret':\n",
    "            print(\"incorrect password you only have \" ,c - i , 'chances left ')\n",
    "        elif c - i == 0:\n",
    "            print(\"you lost all your chances try again in 30 sec \")\n",
    "            time.sleep(30)\n",
    "        \n",
    "        "
   ]
  },
  {
   "cell_type": "code",
   "execution_count": null,
   "metadata": {},
   "outputs": [],
   "source": []
  },
  {
   "cell_type": "code",
   "execution_count": null,
   "metadata": {},
   "outputs": [],
   "source": []
  },
  {
   "cell_type": "code",
   "execution_count": null,
   "metadata": {},
   "outputs": [],
   "source": []
  },
  {
   "cell_type": "code",
   "execution_count": null,
   "metadata": {},
   "outputs": [],
   "source": []
  },
  {
   "cell_type": "markdown",
   "metadata": {},
   "source": [
    "### D. Python functions"
   ]
  },
  {
   "cell_type": "markdown",
   "metadata": {},
   "source": [
    "**1. Some basic functions: min, max, len, sum**"
   ]
  },
  {
   "cell_type": "code",
   "execution_count": null,
   "metadata": {},
   "outputs": [],
   "source": [
    "x = [1,3,4,2,6]"
   ]
  },
  {
   "cell_type": "code",
   "execution_count": null,
   "metadata": {},
   "outputs": [],
   "source": [
    "min(x)"
   ]
  },
  {
   "cell_type": "code",
   "execution_count": null,
   "metadata": {},
   "outputs": [],
   "source": [
    "max(x)"
   ]
  },
  {
   "cell_type": "code",
   "execution_count": null,
   "metadata": {},
   "outputs": [],
   "source": [
    "len(x)"
   ]
  },
  {
   "cell_type": "markdown",
   "metadata": {},
   "source": [
    "**2. Type conversion functions: int, float, str**"
   ]
  },
  {
   "cell_type": "code",
   "execution_count": null,
   "metadata": {},
   "outputs": [],
   "source": [
    "str(1)"
   ]
  },
  {
   "cell_type": "markdown",
   "metadata": {},
   "source": [
    "**3. Some math functions: sum, sin, log10**"
   ]
  },
  {
   "cell_type": "code",
   "execution_count": null,
   "metadata": {},
   "outputs": [],
   "source": [
    "import math"
   ]
  },
  {
   "cell_type": "code",
   "execution_count": null,
   "metadata": {},
   "outputs": [],
   "source": [
    "math.log10(30)"
   ]
  },
  {
   "cell_type": "code",
   "execution_count": null,
   "metadata": {},
   "outputs": [],
   "source": [
    "math.tan(0.7853)"
   ]
  },
  {
   "cell_type": "markdown",
   "metadata": {},
   "source": [
    "**4. Functions to generate random numbers:**"
   ]
  },
  {
   "cell_type": "code",
   "execution_count": null,
   "metadata": {},
   "outputs": [],
   "source": [
    "import random"
   ]
  },
  {
   "cell_type": "code",
   "execution_count": null,
   "metadata": {},
   "outputs": [],
   "source": [
    "#random.random\n",
    "random.random()"
   ]
  },
  {
   "cell_type": "code",
   "execution_count": null,
   "metadata": {},
   "outputs": [],
   "source": [
    "#random.randint\n",
    "random.randint(1,10)"
   ]
  },
  {
   "cell_type": "code",
   "execution_count": null,
   "metadata": {},
   "outputs": [],
   "source": [
    "#random.choice\n",
    "x = [1,3,4,2,6]\n",
    "random.choice(x)"
   ]
  },
  {
   "cell_type": "markdown",
   "metadata": {},
   "source": [
    "### E. Guess the number Game"
   ]
  },
  {
   "cell_type": "markdown",
   "metadata": {},
   "source": [
    "Guess a number is a game that prompts a player to guess a number between 0 and 9, which is randomly generated by the system. When the input given by the user matches the number generated by the system then the user wins. The game should go as follows:\n",
    "\t\n",
    "\tGuess the number: 5\n",
    "\tSorry, try again\n",
    "\tGuess the number: 3\n",
    "\tSorry, try again\n",
    "\tGuess the number: 8\n",
    "\tYou got it right! Congo!\n",
    "    \n",
    "    Guess the number: 5\n",
    "\tSorry, try again\n",
    "\tGuess the number: 3\n",
    "\tSorry, try again\n",
    "\tGuess the number: exit\n",
    "\tEnjoy your day!"
   ]
  },
  {
   "cell_type": "code",
   "execution_count": null,
   "metadata": {},
   "outputs": [],
   "source": []
  },
  {
   "cell_type": "code",
   "execution_count": null,
   "metadata": {},
   "outputs": [],
   "source": []
  }
 ],
 "metadata": {
  "kernelspec": {
   "display_name": "Python 3",
   "language": "python",
   "name": "python3"
  },
  "language_info": {
   "codemirror_mode": {
    "name": "ipython",
    "version": 3
   },
   "file_extension": ".py",
   "mimetype": "text/x-python",
   "name": "python",
   "nbconvert_exporter": "python",
   "pygments_lexer": "ipython3",
   "version": "3.7.6"
  }
 },
 "nbformat": 4,
 "nbformat_minor": 2
}
