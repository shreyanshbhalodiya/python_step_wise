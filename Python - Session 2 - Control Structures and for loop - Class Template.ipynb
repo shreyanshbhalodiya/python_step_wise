{
 "cells": [
  {
   "cell_type": "markdown",
   "metadata": {},
   "source": [
    "### A. Things you already know:\n",
    "\n",
    "* Boolean expression\n",
    "* Logical operators\n",
    "* Logical expressions (if:, else if:, else:)\n",
    "\n",
    "*Note: In Python **else if** is written as **elif** *"
   ]
  },
  {
   "cell_type": "markdown",
   "metadata": {},
   "source": [
    "### B. Introducing elif:"
   ]
  },
  {
   "cell_type": "code",
   "execution_count": null,
   "metadata": {},
   "outputs": [],
   "source": [
    "number = int(input(\"Enter a number: \"))\n",
    "\n",
    "if number > 0:\n",
    "    print(\"Positive\")\n",
    "elif number < 0:\n",
    "    print(\"Negative\")\n",
    "else:\n",
    "    print(\"Zero\")"
   ]
  },
  {
   "cell_type": "code",
   "execution_count": null,
   "metadata": {},
   "outputs": [],
   "source": [
    "x = \"fire\"\n",
    "if x=='fire':\n",
    "    print(\"call 454\")\n",
    "if x==\"health\":\n",
    "    print(\"call 108\")\n",
    "if x==\"police\":\n",
    "    print(\"call 100\")"
   ]
  },
  {
   "cell_type": "markdown",
   "metadata": {},
   "source": [
    "#### Exercise:\n",
    "\n",
    "**Recall the problem:**\n",
    "\n",
    "For a certain academic subject the students are evaluated based on five tests -\n",
    "\n",
    "* Quiz 1 (20 marks - 10% Weight),\n",
    "* Quiz 2 (20 marks - 10% Weight),\n",
    "* Class test (50 marks - 25% Weight),\n",
    "* Assignment (100 marks - 25% weight) and\n",
    "* Project (200 marks - 30% weight).\n",
    "\n",
    "Design a program that will prompt the user for marks for each of the tests and calculate the overall marks (out of 100).\n"
   ]
  },
  {
   "cell_type": "markdown",
   "metadata": {},
   "source": [
    "#### Add an extension to the problem to display grades:\n",
    "\n",
    "Display the grades of students using the following table:\n",
    "\n",
    "    Score\t\tGrade\n",
    "\t>= 60\t\tFirst Class\n",
    "\t>= 40\t\tSecond Class\n",
    "\t< 40\t\tFail\n"
   ]
  },
  {
   "cell_type": "code",
   "execution_count": null,
   "metadata": {},
   "outputs": [
    {
     "name": "stdout",
     "output_type": "stream",
     "text": [
      "quiz 1 marks out of 20 18\n",
      "quiz 2 marks out of 20 18\n",
      "class test marks out of 50 42\n",
      "assignment out of 10080\n",
      "project marks out of 200190\n",
      "marks out of 100 is  87.5\n",
      "first class\n",
      "quiz 1 marks out of 20 0\n",
      "quiz 2 marks out of 20 0\n",
      "class test marks out of 50 0\n",
      "assignment out of 1000\n",
      "project marks out of 2000\n",
      "marks out of 100 is  0.0\n",
      "fail \n",
      "quiz 1 marks out of 20 20\n",
      "quiz 2 marks out of 20 20\n",
      "class test marks out of 50 50\n",
      "assignment out of 100100\n",
      "project marks out of 200200\n",
      "marks out of 100 is  100.0\n",
      "first class\n"
     ]
    }
   ],
   "source": [
    "while True:\n",
    "    Q1 = int(input(\"quiz 1 marks out of 20 \"))\n",
    "    Q2 = int(input(\"quiz 2 marks out of 20 \"))\n",
    "    ct = int(input(\"class test marks out of 50 \"))\n",
    "    asg = int(input(\"assignment out of 100\"))\n",
    "    prj = int(input(\"project marks out of 200\"))\n",
    "    \n",
    "    f_marks = (Q1*5)*1/10 + (Q2*5)*1/10 + (ct*2)*1/4 + asg*1/4 + prj/2*3/10\n",
    "    if f_marks <0:\n",
    "        print(\"invalid marks enter again \")\n",
    "    print(\"marks out of 100 is \", f_marks)\n",
    "    \n",
    "    if f_marks>= 60:\n",
    "        print(\"first class\")\n",
    "    elif f_marks >= 40:\n",
    "        print(\"second class\")\n",
    "    elif f_marks < 40 :\n",
    "        print(\"fail \")\n",
    "    else:\n",
    "        print(\"invalid marks enter again \")"
   ]
  },
  {
   "cell_type": "markdown",
   "metadata": {},
   "source": [
    "#### Exercise:\n",
    "\n",
    "** Recall the problem:**\n",
    "\n",
    "How about prompting the user for the number of hours and using the input value to compute the total pay?"
   ]
  },
  {
   "cell_type": "markdown",
   "metadata": {},
   "source": [
    "** Include a modification **\n",
    "\n",
    "Write a program to prompt the user for hours and rate per hour to compute the gross pay. The pay computation should be such that the employees should get 1.5 times the hourly rate for hours worked above 40 hours."
   ]
  },
  {
   "cell_type": "code",
   "execution_count": null,
   "metadata": {},
   "outputs": [],
   "source": [
    "while True:\n",
    "    hours = int(input(\" enter the number of hours you worked \"))\n",
    "    if hours>0:\n",
    "        print(\"Hours worked \" , hours) \n",
    "    if hours < 40 and hours>0 or hours==40 :\n",
    "        print('pay' ,hours * 12)\n",
    "    elif hours > 40:\n",
    "        print('pay' , hours *1.5*12)\n",
    "    else:\n",
    "        print('enter valid entry ')"
   ]
  },
  {
   "cell_type": "markdown",
   "metadata": {},
   "source": [
    "### C. Exception Handling:"
   ]
  },
  {
   "cell_type": "markdown",
   "metadata": {},
   "source": [
    "** try & except **"
   ]
  },
  {
   "cell_type": "markdown",
   "metadata": {},
   "source": [
    "Rewrite the pay program (refer problem 2) using try and expect so that the program handles non-numeric input gracefully by printing a message and exiting the program. The following shows two executions of the program:\n",
    "\n",
    "\tEnter hours: 20\n",
    "\tEnter rate:  nine\n",
    "\tError, please enter numeric input"
   ]
  },
  {
   "cell_type": "code",
   "execution_count": null,
   "metadata": {},
   "outputs": [],
   "source": [
    "try:\n",
    "    while True:\n",
    "        hours = int(input(\" enter the number of hours you worked \"))\n",
    "        if  hours>0:\n",
    "                print(\"Hours worked \" , hours) \n",
    "        if  hours <= 40 and hours>0: \n",
    "                print('pay' ,hours * 12)\n",
    "        elif hours > 40:\n",
    "                print('pay' , hours *1.5*12)\n",
    "        elif hours<0:\n",
    "                print(\"invalid entry \")\n",
    "    \n",
    "       \n",
    "except:\n",
    "    print('enter valid entry ')\n",
    "    \n",
    "    "
   ]
  },
  {
   "cell_type": "markdown",
   "metadata": {},
   "source": [
    "### D. For Loop"
   ]
  },
  {
   "cell_type": "markdown",
   "metadata": {},
   "source": [
    "** Consider the following list of number **\n",
    "    \n",
    "    L = [12,18,11,15,9,7,16]"
   ]
  },
  {
   "cell_type": "code",
   "execution_count": 2,
   "metadata": {},
   "outputs": [
    {
     "data": {
      "text/plain": [
       "[12, 18, 11, 15, 9, 7, 16]"
      ]
     },
     "execution_count": 2,
     "metadata": {},
     "output_type": "execute_result"
    }
   ],
   "source": [
    "L = [12,18,11,15,9,7,16]\n",
    "L"
   ]
  },
  {
   "cell_type": "code",
   "execution_count": 3,
   "metadata": {
    "scrolled": false
   },
   "outputs": [
    {
     "name": "stdout",
     "output_type": "stream",
     "text": [
      "12\n",
      "18\n",
      "11\n",
      "15\n",
      "9\n",
      "7\n",
      "16\n"
     ]
    }
   ],
   "source": [
    "for i in range(0,7):\n",
    "    \n",
    "    print(L[i])"
   ]
  },
  {
   "cell_type": "code",
   "execution_count": 4,
   "metadata": {
    "scrolled": true
   },
   "outputs": [
    {
     "name": "stdout",
     "output_type": "stream",
     "text": [
      "[0, 12]\n",
      "[1, 18]\n",
      "[2, 11]\n",
      "[3, 15]\n",
      "[4, 9]\n",
      "[5, 7]\n",
      "[6, 16]\n"
     ]
    }
   ],
   "source": [
    "for i in range(0,7):\n",
    "    print( [ i , L[i]])\n",
    "    "
   ]
  },
  {
   "cell_type": "code",
   "execution_count": 5,
   "metadata": {},
   "outputs": [
    {
     "name": "stdout",
     "output_type": "stream",
     "text": [
      "(0, 12)\n",
      "(1, 18)\n",
      "(2, 11)\n",
      "(3, 15)\n",
      "(4, 9)\n",
      "(5, 7)\n",
      "(6, 16)\n"
     ]
    }
   ],
   "source": [
    "for i in range(0,7):\n",
    "    print((i , L[i]))"
   ]
  },
  {
   "cell_type": "code",
   "execution_count": 7,
   "metadata": {},
   "outputs": [
    {
     "name": "stdout",
     "output_type": "stream",
     "text": [
      "[0, 12]\n",
      "[1, 30]\n",
      "[2, 41]\n",
      "[3, 56]\n",
      "[4, 65]\n",
      "[5, 72]\n",
      "[6, 88]\n"
     ]
    }
   ],
   "source": [
    "L = [12,18,11,15,9,7,16]\n",
    "total = 0\n",
    "for i in range(0,7):\n",
    "    total = total + L[i]\n",
    "    print( [i , total])"
   ]
  },
  {
   "cell_type": "code",
   "execution_count": 9,
   "metadata": {},
   "outputs": [
    {
     "name": "stdout",
     "output_type": "stream",
     "text": [
      "12\n",
      "18\n",
      "11\n",
      "15\n",
      "9\n",
      "7\n",
      "16\n"
     ]
    }
   ],
   "source": [
    "for i in range(0,7):\n",
    "    print(L[i])"
   ]
  },
  {
   "cell_type": "markdown",
   "metadata": {},
   "source": [
    "**1. Calculating the sum of numbers in a list. **"
   ]
  },
  {
   "cell_type": "code",
   "execution_count": 14,
   "metadata": {
    "scrolled": false
   },
   "outputs": [
    {
     "name": "stdout",
     "output_type": "stream",
     "text": [
      "1 3 6 10 15 21 28 36 45 55 "
     ]
    }
   ],
   "source": [
    "L = [1,2,3,4,5,6,7,8,9,10]\n",
    "sum = 0\n",
    "for i in L:\n",
    "    sum = sum + i\n",
    "    print(sum , end = \" \")\n",
    "    "
   ]
  },
  {
   "cell_type": "markdown",
   "metadata": {},
   "source": [
    "###  see the difference between above and below code first it prints in a loop and second one prints outside loop"
   ]
  },
  {
   "cell_type": "code",
   "execution_count": 16,
   "metadata": {},
   "outputs": [
    {
     "name": "stdout",
     "output_type": "stream",
     "text": [
      "55\n"
     ]
    }
   ],
   "source": [
    "L = [1,2,3,4,5,6,7,8,9,10]\n",
    "sum = 0\n",
    "for i in L:\n",
    "    sum = sum + i\n",
    "print(sum)  # prints outside loop\n",
    "    "
   ]
  },
  {
   "cell_type": "code",
   "execution_count": null,
   "metadata": {},
   "outputs": [],
   "source": []
  },
  {
   "cell_type": "markdown",
   "metadata": {},
   "source": [
    "** 2. Counting the number of elements present in a list. **"
   ]
  },
  {
   "cell_type": "code",
   "execution_count": 13,
   "metadata": {},
   "outputs": [
    {
     "name": "stdout",
     "output_type": "stream",
     "text": [
      "1\n",
      "2\n",
      "3\n",
      "4\n",
      "5\n",
      "6\n",
      "7\n",
      "\n",
      "\n",
      "7\n"
     ]
    }
   ],
   "source": [
    "count = 0 \n",
    "for i in L:\n",
    "    count = count + 1\n",
    "    print(count)\n",
    "    \n",
    "print('\\n')   # adds a space to it\n",
    "print(count)   # print outside the loop"
   ]
  },
  {
   "cell_type": "code",
   "execution_count": 11,
   "metadata": {},
   "outputs": [
    {
     "name": "stdout",
     "output_type": "stream",
     "text": [
      "7\n"
     ]
    }
   ],
   "source": [
    "count = 0 \n",
    "for i in L:\n",
    "    count = count + 1\n",
    "    #print(count)\n",
    "    \n",
    "print(count)"
   ]
  },
  {
   "cell_type": "markdown",
   "metadata": {},
   "source": [
    "** 3. Finding the largest number in a sequence.**"
   ]
  },
  {
   "cell_type": "code",
   "execution_count": null,
   "metadata": {},
   "outputs": [],
   "source": []
  },
  {
   "cell_type": "markdown",
   "metadata": {},
   "source": [
    "** 4. Finding the smallest number in a sequence. **"
   ]
  },
  {
   "cell_type": "code",
   "execution_count": null,
   "metadata": {},
   "outputs": [],
   "source": []
  },
  {
   "cell_type": "markdown",
   "metadata": {},
   "source": [
    "### E. Introducing range()"
   ]
  },
  {
   "cell_type": "code",
   "execution_count": null,
   "metadata": {},
   "outputs": [],
   "source": []
  },
  {
   "cell_type": "markdown",
   "metadata": {},
   "source": [
    "**1. Calculate the sum of first n integers**"
   ]
  },
  {
   "cell_type": "code",
   "execution_count": null,
   "metadata": {},
   "outputs": [],
   "source": []
  },
  {
   "cell_type": "code",
   "execution_count": null,
   "metadata": {},
   "outputs": [],
   "source": []
  },
  {
   "cell_type": "markdown",
   "metadata": {},
   "source": [
    "**2. Calculate the mean of the first n integers.**"
   ]
  },
  {
   "cell_type": "code",
   "execution_count": null,
   "metadata": {},
   "outputs": [],
   "source": []
  },
  {
   "cell_type": "markdown",
   "metadata": {},
   "source": [
    "**3. Calculate the standard deviation of the first n integers**"
   ]
  },
  {
   "cell_type": "code",
   "execution_count": null,
   "metadata": {},
   "outputs": [],
   "source": []
  }
 ],
 "metadata": {
  "kernelspec": {
   "display_name": "Python 3",
   "language": "python",
   "name": "python3"
  },
  "language_info": {
   "codemirror_mode": {
    "name": "ipython",
    "version": 3
   },
   "file_extension": ".py",
   "mimetype": "text/x-python",
   "name": "python",
   "nbconvert_exporter": "python",
   "pygments_lexer": "ipython3",
   "version": "3.7.6"
  }
 },
 "nbformat": 4,
 "nbformat_minor": 2
}
